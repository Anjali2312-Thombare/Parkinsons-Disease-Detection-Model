{
  "nbformat": 4,
  "nbformat_minor": 0,
  "metadata": {
    "colab": {
      "provenance": [],
      "include_colab_link": true
    },
    "kernelspec": {
      "name": "python3",
      "display_name": "Python 3"
    },
    "language_info": {
      "name": "python"
    }
  },
  "cells": [
    {
      "cell_type": "markdown",
      "metadata": {
        "id": "view-in-github",
        "colab_type": "text"
      },
      "source": [
        "<a href=\"https://colab.research.google.com/github/Anjali2312-Thombare/Parkinsons-Disease-Detection-Model/blob/main/ParkinsonDetector.ipynb\" target=\"_parent\"><img src=\"https://colab.research.google.com/assets/colab-badge.svg\" alt=\"Open In Colab\"/></a>"
      ]
    },
    {
      "cell_type": "markdown",
      "source": [
        "MLP Open Ended Assignment "
      ],
      "metadata": {
        "id": "1m7qbnmGHTPc"
      }
    },
    {
      "cell_type": "code",
      "execution_count": null,
      "metadata": {
        "id": "ZhAG5qY8bqks"
      },
      "outputs": [],
      "source": [
        "import pandas as pd\n",
        "#machine learining open-ended assignment \n",
        "#parkinson disease detection\n"
      ]
    }
  ]
}